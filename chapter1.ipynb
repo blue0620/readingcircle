{
  "nbformat": 4,
  "nbformat_minor": 0,
  "metadata": {
    "colab": {
      "name": "chapter1.ipynb",
      "provenance": [],
      "private_outputs": true,
      "collapsed_sections": [],
      "include_colab_link": true
    },
    "kernelspec": {
      "name": "ir",
      "display_name": "R"
    }
  },
  "cells": [
    {
      "cell_type": "markdown",
      "metadata": {
        "id": "view-in-github",
        "colab_type": "text"
      },
      "source": [
        "<a href=\"https://colab.research.google.com/github/blue0620/readingcircle/blob/master/chapter1.ipynb\" target=\"_parent\"><img src=\"https://colab.research.google.com/assets/colab-badge.svg\" alt=\"Open In Colab\"/></a>"
      ]
    },
    {
      "cell_type": "code",
      "metadata": {
        "id": "gw-2Xr4N4yJ3",
        "colab_type": "code",
        "colab": {}
      },
      "source": [
        "# (1) パッケージをインストールする（初回のみ）\n",
        "install.packages(\"tidyverse\")\n",
        "\n",
        "# (2) ライブラリの読み出し\n",
        "library(\"tidyverse\")\n",
        "\n",
        "# (3) データの読み込み\n",
        "email_data <- read_csv(\"http://www.minethatdata.com/Kevin_Hillstrom_MineThatData_E-MailAnalytics_DataMiningChallenge_2008.03.20.csv\")\n"
      ],
      "execution_count": 0,
      "outputs": []
    },
    {
      "cell_type": "code",
      "metadata": {
        "id": "Ag74B4835TLO",
        "colab_type": "code",
        "colab": {}
      },
      "source": [
        "# (4) データの準備\n",
        "## 女性向けメールが配信されたデータを削除したデータを作成\n",
        "male_df <- email_data %>%\n",
        "  filter(segment != \"Womens E-Mail\") %>% # 女性向けメールが配信されたデータを削除\n",
        "  mutate(treatment = ifelse(segment == \"Mens E-Mail\", 1, 0)) #介入を表すtreatment変数を追加\n",
        "print(male_df)"
      ],
      "execution_count": 0,
      "outputs": []
    },
    {
      "cell_type": "code",
      "metadata": {
        "id": "v0Odd_w15dG6",
        "colab_type": "code",
        "colab": {}
      },
      "source": [
        "# (5) 集計による比較\n",
        "## group_byとsummairseを使って集計\n",
        "summary_by_segment <- male_df %>%\n",
        "  group_by(treatment) %>% # データのグループ化\n",
        "  summarise(conversion_rate = mean(conversion), # グループごとのconversionの平均\n",
        "            spend_mean = mean(spend), # グループごとのspendの平均\n",
        "            count = n()) # グループごとのデータ数\n",
        "print(summary_by_segment)"
      ],
      "execution_count": 0,
      "outputs": []
    },
    {
      "cell_type": "code",
      "metadata": {
        "id": "0Oc3wxBZ5e5E",
        "colab_type": "code",
        "colab": {}
      },
      "source": [
        "# (6) t検定を行う\n",
        "## (a)男性向けメールが配信されたグループの購買データを得る\n",
        "mens_mail <- male_df %>%\n",
        "  filter(treatment == 1) %>%\n",
        "  pull(spend)\n",
        "\n",
        "## (b)メールが配信されなかったグループの購買データを得る\n",
        "no_mail <- male_df %>%\n",
        "  filter(treatment == 0) %>%\n",
        "  pull(spend)\n",
        "  ## (a)(b)の平均の差に対して有意差検定を実行する\n",
        "rct_ttest <- t.test(mens_mail, no_mail, var.equal = T)\n",
        "print(rct_ttest)"
      ],
      "execution_count": 0,
      "outputs": []
    },
    {
      "cell_type": "code",
      "metadata": {
        "id": "3KHQYwPN6dgi",
        "colab_type": "code",
        "colab": {}
      },
      "source": [
        "# (7) セレクションバイアスのあるデータの作成\n",
        "## seedを固定する\n",
        "set.seed(1)\n",
        "\n",
        "## 条件に反応するサンプルの量を半分にする\n",
        "obs_rate_c <- 0.5\n",
        "obs_rate_t <- 0.5\n",
        "\n",
        "## バイアスのあるデータの作成\n",
        "biased_data <- male_df %>%\n",
        "  mutate(obs_rate_c =\n",
        "           ifelse( (history > 300) | (recency < 6) |\n",
        "                     (channel == \"Multichannel\"), obs_rate_c, 1),\n",
        "         obs_rate_t =\n",
        "           ifelse( (history > 300) | (recency < 6) |\n",
        "                     (channel == \"Multichannel\"), 1, obs_rate_t),\n",
        "         random_number = runif(n = NROW(male_df))) %>%\n",
        "  filter( (treatment == 0 & random_number < obs_rate_c ) |\n",
        "            (treatment == 1 & random_number < obs_rate_t) )\n"
      ],
      "execution_count": 0,
      "outputs": []
    },
    {
      "cell_type": "code",
      "metadata": {
        "id": "XIDyp-oa6kds",
        "colab_type": "code",
        "colab": {}
      },
      "source": [
        "# (8) セレクションバイアスのあるデータで平均を比較\n",
        "## group_byとsummairseを使って集計(Biased)\n",
        "summary_by_segment_biased <- biased_data %>%\n",
        "  group_by(treatment) %>%\n",
        "  summarise(conversion_rate = mean(conversion),\n",
        "            spend_mean = mean(spend),\n",
        "            count = n())\n",
        "print(summary_by_segment_biased)"
      ],
      "execution_count": 0,
      "outputs": []
    },
    {
      "cell_type": "code",
      "metadata": {
        "id": "Fi3J-pj86nrH",
        "colab_type": "code",
        "colab": {}
      },
      "source": [
        "# (9) Rの関数であるt.testを使ってt検定を行う(Biased)\n",
        "## (a)男性向けメールが配信されたグループの購買データを得る\n",
        "mens_mail_biased <- biased_data %>%\n",
        "  filter(treatment == 1) %>%\n",
        "  pull(spend)\n",
        "\n",
        "## (b)メールが配信されなかったグループの購買データを得る\n",
        "no_mail_biased <- biased_data %>%\n",
        "  filter(treatment == 0) %>%\n",
        "  pull(spend)\n",
        "\n",
        "## (a)(b)の平均の差に対して有意差検定を実行\n",
        "rct_ttest_biased <- t.test(mens_mail_biased, no_mail_biased, var.equal = T)\n",
        "print(rct_ttest_biased)"
      ],
      "execution_count": 0,
      "outputs": []
    }
  ]
}