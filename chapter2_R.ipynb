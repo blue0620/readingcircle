{
  "nbformat": 4,
  "nbformat_minor": 0,
  "metadata": {
    "colab": {
      "name": "chapter2_R.ipynb",
      "provenance": [],
      "private_outputs": true,
      "collapsed_sections": [],
      "include_colab_link": true
    },
    "kernelspec": {
      "name": "ir",
      "display_name": "R"
    }
  },
  "cells": [
    {
      "cell_type": "markdown",
      "metadata": {
        "id": "view-in-github",
        "colab_type": "text"
      },
      "source": [
        "<a href=\"https://colab.research.google.com/github/blue0620/readingcircle/blob/master/chapter2_R.ipynb\" target=\"_parent\"><img src=\"https://colab.research.google.com/assets/colab-badge.svg\" alt=\"Open In Colab\"/></a>"
      ]
    },
    {
      "cell_type": "markdown",
      "metadata": {
        "id": "wPy-r5aCWj7t",
        "colab_type": "text"
      },
      "source": [
        "# 2.1 回帰 分析 の 導入"
      ]
    },
    {
      "cell_type": "markdown",
      "metadata": {
        "id": "BztMng_sLdvQ",
        "colab_type": "text"
      },
      "source": [
        "## ■ 2. 1. 1 単回帰分析\n",
        "\n",
        "**概要**\n",
        "\n",
        "X が1単位増減したときに、Yがどの程度変動するかを分析する。\n",
        "\n",
        "**定式化**\n",
        "$$\n",
        "Y_i=\\beta_0+\\beta_1X_i+u_i\n",
        "$$\n",
        "\n",
        "$i$は各点を、$u_i$は誤差を表す。\n",
        "\n",
        "$\\beta_0$は切片,$\\beta_1$はXが1単位増えたときの**Yの期待値**の増加分。\n",
        "$\\beta_0$, $\\beta_1$は何らかの値を持つパラメータで、回帰分析の結果得られる。\n",
        "\n",
        "\n",
        "**どうやってパラメータを決めるか**\n",
        "\n",
        "「最小2乗法（ Ordinary Least Square；OLS）」\n",
        "\n",
        "→誤差($u_i$)の2乗が最も小さくなるように$\\beta_0$, $\\beta_1$を決める。\n",
        "\n",
        "$$\n",
        "\\hat \\beta_0,\\hat \\beta_1=arg min_{\\beta_0,\\beta_1} (Y_i-\\beta_0-\\beta_1X_i)^2 \n",
        "$$\n",
        "\n",
        "**「YとYの条件付き期待値」と「Yの回帰式」の関係性**\n",
        "\n",
        "$$\n",
        "Y=E[Y|X]+u=\\beta_0+\\beta_1X+u\n",
        "$$\n",
        "\n",
        "\n",
        "**上式の関係性の重要な意義**\n",
        "\n",
        "回帰式のパラメータ $\\beta_0,\\beta_1$の値を手元のデータから推定して、$\\hat \\beta_0,\\hat \\beta_1$として得ることで、単にYに対する 近似値を得ているだけでなく、 Yの条件付き期待値 $E[Y|X]$ に対する推定値を得ている。"
      ]
    },
    {
      "cell_type": "markdown",
      "metadata": {
        "id": "72GOv-p9Xjex",
        "colab_type": "text"
      },
      "source": [
        "## ■ 2. 1. 2 効果分析のための回帰分析\n",
        "\n",
        "###**おさらい**\n",
        "\n",
        "介入の効果は施策を行った場合の結果と行わなかった場合の結果の期待値の差分($\\tau =E[Y^{(1)}]-E[Y^{(0)}]$)で表される。\n",
        "\n",
        "セレクションバイアスの影響を取り除いて、上式の介入の効果$\\tau$を推定したい。\n",
        "\n",
        "###**効果分析のための回帰分析に登場する関数**\n",
        "\n",
        "* **被説明変数$Y$**\n",
        "介入の効果を確認したい変数(例えば購買量)\n",
        "\n",
        "* **介入変数$Z$**\n",
        "施策の有無(例えばメールを配信するかどうか)\n",
        "\n",
        "* **共変量$X$**\n",
        "セレクションバイアスを発生させていると分析者が想定する変数\n",
        "\n",
        "※共変量は複数ある場合がほとんど\n",
        "\n",
        "※介入変数や共変量は統計学では説明変数、機械学習では特徴量と呼ばれる\n",
        "\n",
        "複数の説明変数があるときも同様に回帰分析を行えて、これは重回帰分析と呼ぶ。\n",
        "式だけ書きます。\n",
        "$$\n",
        "E[Y|X,Z]=\\beta_0+\\beta_1X+\\beta_2Z\n",
        "$$\n",
        "重回帰分析でも条件付き期待値と回帰分析の関係性が成り立つ\n",
        "\n",
        "$$\n",
        "Y=E[Y|X,Z]+u=\\beta_0+\\beta_1X+\\beta_2Z+u\n",
        "$$\n",
        "\n",
        "このとき、誤差$u$の条件付き期待値は\n",
        "$E[u|X,Z]=0$であり、$u$と$X,Z$は相関しない。\n",
        "\n",
        "(メモ:単に誤差は説明変数の影響を受けないと言いたいだけ？)\n",
        "\n",
        "$\n",
        "u_i=Y_i-(\\beta_0+\\beta_1X_i+\\beta_2Z_i)\n",
        "$\n",
        "\n",
        "パラメータを推定するには、単回帰のときと同様に、上記の2乗誤差の最小問題を解けば良い。\n",
        "\n",
        "\n",
        "推定されたパラメータを代入することで条件付き期待値を算出できると同時に、$Y_i$に対する近似値が得られる。\n",
        "\n",
        "推定に使うデータのサンプルサイズを大きくしていくと。推定パラメータは母集団上での回帰式のパラメータに漸近していく。\n",
        "\n",
        "\n",
        "重回帰分析の**共変量$X$**には様々な関数の形を入れることができる。例えば$X^2$とか。でも、どんな形としてデザインするかは分析者が事前知識から決定する必要がある。\n",
        "\n",
        "一方、**介入変数$Z$**については、常に施策をするしないの2択なので常に線形のまま扱うことができる。\n",
        "\n",
        "\n",
        "\n",
        "\n",
        "\n",
        "\n",
        "\n",
        "\n",
        "\n",
        "\n",
        "\n",
        "\n"
      ]
    },
    {
      "cell_type": "markdown",
      "metadata": {
        "id": "gv7mSwAsUwZ4",
        "colab_type": "text"
      },
      "source": [
        "## ■2.1.3 回帰分析による効果の推定\n",
        "\n",
        "介入の効果$\\tau$は以下のような差分の式に表せる\n",
        "$$\n",
        "\\tau=E[Y^{(1)}]-E[Y^{(0)}]=E[Y|X,Z=1]-E[Y|X,Z=0]\n",
        "$$\n",
        "\n",
        "また、前節を踏まえた重回帰分析によって、$E[Y|X,Z=0]$,$E[Y|X,Z=0]$の中身を推定すると、$X$と$X^2$を共変量に含む重回帰式は以下のように書ける。\n",
        "\n",
        "$\n",
        "E[Y|X,Z=1]=\\beta_0+\\beta_1X+\\beta_2X^2+\\beta_31\n",
        "$\n",
        "\n",
        "$\n",
        "E[Y|X,Z=0]=\\beta_0+\\beta_1X+\\beta_2X^2+\\beta_30\n",
        "$\n",
        "\n",
        "これらを差分の式に代入すると以下の通り。\n",
        "$\n",
        "E[Y|X,Z=1]-E[Y|X,Z=0]=(\\beta_0+\\beta_1X+\\beta_2X^2+\\beta_31)-(\\beta_0+\\beta_1X+\\beta_2X^2+\\beta_30)=\\beta_3\n",
        "$\n",
        "\n",
        "と、このとおり$\\beta_3$しか残らない。つまり回帰分析における介入の効果は$\\beta_3$にある。\n",
        "\n"
      ]
    },
    {
      "cell_type": "markdown",
      "metadata": {
        "id": "kgwDhCRUXb62",
        "colab_type": "text"
      },
      "source": [
        "## 2.1.4 回帰分析における有意差検定\n",
        "\n",
        "データに対して回帰分析を用いた推定した$\\hat\\beta_3$に対して、母集団上の$\\beta_3$が0であるという可能性を検証するために有意差検定を行う必要がある。"
      ]
    },
    {
      "cell_type": "markdown",
      "metadata": {
        "id": "K1niJAFCYsUj",
        "colab_type": "text"
      },
      "source": [
        "## 2.1.5 Rによるメールマーケティングデータの分析\n",
        "メールマーケティングのデータに対して回帰分析を行う。\n",
        "\n",
        "* 目的変数：購入額(spend)\n",
        "* 介入変数：メールの有無(treatment)\n",
        "* 共変量：過去の購入額(history)\n",
        "\n",
        "$$\n",
        "Spend_i=\\beta_0+\\beta_{treatment}treatment_i+\\beta_{histroy}histroy_i\n",
        "$$\n"
      ]
    },
    {
      "cell_type": "code",
      "metadata": {
        "id": "Ur0kmCD6kFUi",
        "colab_type": "code",
        "colab": {}
      },
      "source": [
        "# (1) パッケージをインストールする（初回のみ）\n",
        "install.packages(\"broom\")\n",
        "\n",
        "# (2) ライブラリの読み出し\n",
        "library(\"tidyverse\")\n",
        "library(\"broom\")\n",
        "\n",
        "# (3) データの読み込み\n",
        "email_data <- read_csv(\"http://www.minethatdata.com/Kevin_Hillstrom_MineThatData_E-MailAnalytics_DataMiningChallenge_2008.03.20.csv\")\n",
        "\n",
        "# (4) 女性向けメールが配信されたデータを削除したデータを作成\n",
        "male_df <- email_data %>%\n",
        "  filter(segment != \"Womens E-Mail\") %>% # 女性向けメールが配信されたデータを削除\n",
        "  mutate(treatment = ifelse(segment == \"Mens E-Mail\", 1, 0)) # 介入を表すtreatment変数を追加\n",
        "\n",
        "# (5) セレクションバイアスのあるデータを作成\n",
        "## seedを固定\n",
        "set.seed(1)\n",
        "\n",
        "## 条件に反応するサンプルの量を半分にする\n",
        "obs_rate_c <- 0.5\n",
        "obs_rate_t <- 0.5\n",
        "\n",
        "## バイアスのあるデータを作成\n",
        "biased_data <- male_df %>%\n",
        "  mutate(obs_rate_c =\n",
        "           ifelse( (history > 300) | (recency < 6) |\n",
        "                     (channel == \"Multichannel\"), obs_rate_c, 1),\n",
        "         obs_rate_t =\n",
        "           ifelse( (history > 300) | (recency < 6) |\n",
        "                     (channel == \"Multichannel\"), 1, obs_rate_t),\n",
        "         random_number = runif(n = NROW(male_df))) %>%\n",
        "  filter( (treatment == 0 & random_number < obs_rate_c ) |\n",
        "            (treatment == 1 & random_number < obs_rate_t) )\n",
        "\n",
        "# (6) バイアスのあるデータでの回帰分析\n",
        "## 回帰分析の実行\n",
        "biased_reg <- lm(data = biased_data, formula = spend ~ treatment + history)\n",
        "\n",
        "## 分析結果のレポート\n",
        "summary(biased_reg)\n"
      ],
      "execution_count": 0,
      "outputs": []
    },
    {
      "cell_type": "markdown",
      "metadata": {
        "id": "vOJnm31rmUCp",
        "colab_type": "text"
      },
      "source": [
        "## ■2.1.6 効果検証のための回帰分析で行わないこと\n",
        "\n",
        "* 回帰分析のレポートについて、$\\beta_{treatment}$以外の推定結果への興味はないので無視するよ。\n",
        "\n",
        "* 求まった回帰分析のモデルに説明変数を代入すれば、$Y$の予測式になるけどやらないよ。\n",
        "\n",
        "→こういうのは予測能力を担保するための知見が集約されている機械学習でやったほうがいいよ。\n",
        "\n"
      ]
    },
    {
      "cell_type": "markdown",
      "metadata": {
        "id": "2y-MQVKhn2rz",
        "colab_type": "text"
      },
      "source": [
        "# 2.2 回帰分析におけるバイアス\n",
        "ここでのトピック\n",
        "* 共変量を追加すると効果の推定値はどう変化する？\n",
        "* セレクションバイアスが小さくなるような推定を行うために、どうやって共変量を選んだらいい？"
      ]
    },
    {
      "cell_type": "markdown",
      "metadata": {
        "id": "9mhTc2r7pItu",
        "colab_type": "text"
      },
      "source": [
        "## ■2.2.1 共編料の追加による効果への作用\n",
        "\n",
        "\n",
        "まず、RCTを行ったデータにおいてメールの効果を検証し、どのような効果の値が推定されることが望ましいのかを確認する。\n"
      ]
    },
    {
      "cell_type": "code",
      "metadata": {
        "id": "6y14VBVJlboU",
        "colab_type": "code",
        "colab": {}
      },
      "source": [
        "# (7) RCTデータでの回帰分析とバイアスのあるデータでの回帰分析の比較\n",
        "## RCTデータでの単回帰\n",
        "rct_reg <- lm(data = male_df, formula = spend ~ treatment)\n",
        "rct_reg_coef <- tidy(rct_reg)\n",
        "print(rct_reg_coef)"
      ],
      "execution_count": 0,
      "outputs": []
    },
    {
      "cell_type": "markdown",
      "metadata": {
        "id": "xpVp54JGq9ww",
        "colab_type": "text"
      },
      "source": [
        "推定された$\\beta_{treatment}$は0.770であった。\n",
        "\n",
        "次に、1章と同じプロセスで、バイアスを導入したデータにおいて同様の検証を行う。\n"
      ]
    },
    {
      "cell_type": "code",
      "metadata": {
        "id": "FSbajp7UpGqR",
        "colab_type": "code",
        "colab": {}
      },
      "source": [
        "## バイアスのあるデータでの単回帰\n",
        "nonrct_reg <- lm(data = biased_data, formula = spend ~ treatment)\n",
        "nonrct_reg_coef <- tidy(nonrct_reg)\n",
        "print(nonrct_reg_coef)"
      ],
      "execution_count": 0,
      "outputs": []
    },
    {
      "cell_type": "markdown",
      "metadata": {
        "id": "38oxcMyIrYGL",
        "colab_type": "text"
      },
      "source": [
        "今度は、推定された$\\beta_{treatment}$は0.970であった。→過剰だよね\n",
        "\n",
        "このことから、介入変数だけを回帰式に追加しても、セレクションバイアスの問題が解決しないとわかる。\n",
        "次に、共変量Xをモデルに加える。\n",
        "今回のセレクションバイアスを発生させている、\n",
        "$$\n",
        "recentry_o, channnel_i, history_i\n",
        "$$\n",
        "を回帰式に加える。"
      ]
    },
    {
      "cell_type": "code",
      "metadata": {
        "id": "r8wIb5uQsKZQ",
        "colab_type": "code",
        "colab": {}
      },
      "source": [
        "## バイアスのあるデータでの重回帰\n",
        "nonrct_mreg <- lm(data = biased_data,\n",
        "                  formula = spend ~ treatment + recency + channel + history)\n",
        "nonrct_mreg_coef <- tidy(nonrct_mreg)\n",
        "print(nonrct_mreg_coef)"
      ],
      "execution_count": 0,
      "outputs": []
    },
    {
      "cell_type": "markdown",
      "metadata": {
        "id": "0PJXzUgdsTUN",
        "colab_type": "text"
      },
      "source": [
        "すると、推定された$\\beta_{treatment}$は0.847であった。\n",
        "\n",
        "→共変量を加えて回帰分析を行ったことでセレクションバイアスの影響が軽減された。\n",
        "\n",
        "(メモ：ただ、これはセレクションバイアスの発生源と、バイアスのない推定値がわかっているから言えるのであって、本当に軽減されたのか、それとも最初から負のバイアスがかかっているのかはわからないと思う)\n"
      ]
    },
    {
      "cell_type": "markdown",
      "metadata": {
        "id": "TmWUxnI6uKEO",
        "colab_type": "text"
      },
      "source": [
        "## ■2.2.2　脱落変数バイアス(OVB)\n",
        "**疑問**\n",
        "セレクションバイアスの影響をより小さくするにはどんな共変量をモデルに追加すべきか？\n",
        "\n",
        "**解決策**\n",
        "「目的変数と介入変数に対して相関のある変数を加えるべき」\n",
        "\n",
        "\n",
        "共変量を追加することで、推定される効果が変化する仕組みを確認する。\n",
        "\n",
        "2つの回帰モデルを考える。\n",
        "\n",
        "$Y_i=\\alpha_0+ \\alpha_1Z_i+ u_i$  (モデルA)\n",
        "$Y_i=\\alpha_0+ \\beta_1Z_i+ \\beta_2X_{omit,i}+ e_i$  (モデルB)\n",
        "\n",
        "モデルBはセレクションバイアスの影響が取り除かれた結果を得られるとする。\n",
        "AとBを比較すると、モデルAの誤差項$u_i$は\n",
        "$$u_i=\\beta_2X_{omit,i}+ e_i$$\n",
        "で表せる。\n",
        "\n",
        "$\\beta_2X_{omit,i}$のような、効果の分析に必要だが、モデルから抜け落ちている共変量を**脱落変数**という。\n",
        "\n",
        "脱落変数のあるモデルAにおいて、介入効果を示すパラメータ$\\alpha_1$は\n",
        "$$\\alpha_1=\\beta_1+\\gamma_1\\beta_2$$\n",
        "と表わせる。(本来の効果$\\beta_1$にバイアスが乗っている)\n",
        "\n",
        "この$\\gamma_1\\beta_2$を**脱落変数バイアス(OVB)**と呼ぶ。\n",
        "\n",
        "では$\\gamma_1\\beta_2$はどうやって決まるか？\n",
        "\n",
        "$\\beta_2$はモデルBで推定される$X{omit,i}$と$Y_i$の相関にあたる。\n",
        "\n",
        "$\\gamma_1$は$X{omit,i}$に対して、$Z_i$を回帰させたときに得られる回帰係数\n",
        "$$\n",
        "X{omit,i}=\\gamma_1Z_i+\\epsilon_i \n",
        "$$\n",
        "\n",
        "脱落変数がYに対して与える影響が、脱落変数と介入変数の相関を通して介入変数の効果として表れているように見える。\n",
        "→(つまり、本来の介入の効果に対してバイアスが乗った推定値が観測される)\n",
        "\n",
        "OVBの値を示す式の中には、パラメータが有意であるかどうかは含まれない。"
      ]
    },
    {
      "cell_type": "markdown",
      "metadata": {
        "id": "xrHFfLET3WSv",
        "colab_type": "text"
      },
      "source": [
        "## ■2.2.3 RによるOVBの確認\n",
        "\n",
        "**モデル**\n",
        "historyを共変量に含むかどうかでモデルを分ける。\n",
        "historyは過去の購入額を表すので、売上に対して強い相関がある。\n",
        "$$\n",
        "Spend_i=\\alpha_0+\\alpha_1treatment_i+\\alpha_2recency_i+\\alpha_3channnel_i+e_i (モデルA)\n",
        "$$\n",
        "\n",
        "$$\n",
        "Spend_i=\\beta_0+\\beta_1treatment_i+\\beta_2recency_i+\\beta_3channnel_i+\\beta_4history_i+u_i (モデルB)\n",
        "$$\n",
        "\n",
        "**データ**\n",
        "1.4.3のときと同様に、historyが300以上の場合に介入が起こりやすいようにデータを加工する。\n",
        "\n",
        "\n",
        "モデルAにおいてhistoryをモデルから外すことで、脱落変数バイアスが発生するようにする。"
      ]
    },
    {
      "cell_type": "code",
      "metadata": {
        "id": "3_zcquTv4qbf",
        "colab_type": "code",
        "colab": {}
      },
      "source": [
        "# (8) OVBの確認\n",
        "## (a) モデルA: history抜きの回帰分析とパラメーターの取り出し\n",
        "short_coef <- biased_data %>%\n",
        "  lm(data = .,\n",
        "     formula = spend ~ treatment + recency + channel) %>%\n",
        "  tidy()\n",
        "print(short_coef)\n",
        "## aの結果から介入効果に関するパラメーターのみを取り出す\n",
        "alpha_1 <- short_coef %>%\n",
        "  filter(term == \"treatment\") %>%\n",
        "  pull(estimate)\n",
        "print(alpha_1)\n",
        "\n",
        "## (b) モデルB: historyを追加した回帰分析とパラメーターの取り出し\n",
        "long_coef <- biased_data %>%\n",
        "  lm(data = .,\n",
        "     formula = spend ~ treatment + recency + channel + history) %>%\n",
        "  tidy()\n",
        "print(long_coef)\n",
        "\n",
        "## bの結果から介入とhistoryに関するパラメーターを取り出す\n",
        "beta_1 <- long_coef %>% filter(term == \"treatment\") %>% pull(estimate)\n",
        "beta_4 <- long_coef %>% filter(term == \"history\") %>% pull(estimate)"
      ],
      "execution_count": 0,
      "outputs": []
    },
    {
      "cell_type": "markdown",
      "metadata": {
        "id": "ysrSjtAjBCLs",
        "colab_type": "text"
      },
      "source": [
        "次に、モデルAとモデルBから、脱落変数バイアスの式を出すと、以下のようになる。\n",
        "$$\n",
        "\\beta_1-\\alpha_1=\\gamma_1\\beta_4\n",
        "$$\n",
        "(メモ：教科書の式は誤り)\n",
        "\n",
        "ここでの$\\gamma_1$は以下の式\n",
        "$$\n",
        "history_i=\\gamma_0+\\gamma_1treatment_i+\\gamma_2recency_i+\\gamma_3channel_i+\\epsilon_i (モデルC)\n",
        "$$\n",
        "モデルCは、モデルAで脱落している変数$history_i$に対して、モデルAに含まれる変数で回帰を行ったもの。"
      ]
    },
    {
      "cell_type": "code",
      "metadata": {
        "id": "V831jPnoBDfY",
        "colab_type": "code",
        "colab": {}
      },
      "source": [
        "## (c) 脱落した変数と介入変数での回帰分析\n",
        "omitted_coef <- biased_data %>%\n",
        "  lm(data = ., formula = history ~ treatment + channel + recency) %>%\n",
        "  tidy()\n",
        "print(omitted_coef)\n",
        "## cの結果から介入変数に関するパラメーターを取り出す\n",
        "gamma_1 <- omitted_coef %>% filter(term == \"treatment\") %>% pull(estimate)\n",
        "\n",
        "## OVBの確認\n",
        "print(beta_4*gamma_1)\n",
        "print(alpha_1 - beta_1)\n",
        "print(\"一致したよ！\")"
      ],
      "execution_count": 0,
      "outputs": []
    },
    {
      "cell_type": "markdown",
      "metadata": {
        "id": "w_hWYNjWF1bz",
        "colab_type": "text"
      },
      "source": [
        "■2.2.4 OVBが与えてくれる情報\n",
        "\n",
        "ここまでの議論からバイアスの値は\n",
        "\n",
        "**「脱落変数と介入変数の関係」と「脱落変数と目的変数の関係」の掛け合わせ**\n",
        "\n",
        "で決まる。\n",
        "介入変数と目的変数の両方と相関のある変数を共変量をモデルに加えるとバイアスが軽減される。このような変数を**交絡因子**と呼ぶ。\n",
        "\n",
        "予測のための回帰分析では、目的変数との相関だけを気にして説明変数を選択するが、今回のようにバイアスの少ない効果推定を検討する場合は、目的変数と介入変数の両方との相関を見て決めたほうがよい、ということになる。\n",
        "\n",
        "OVBの値($\\gamma_1と\\beta4$)が小さい場合には、その変数がそもそもZとYと関係が薄い場合と、すでにモデルに含まれている変数の影響によって小さくなっている場合がある。\n",
        "\n",
        "後者については、Zと関係のあるすべての変数をモデルに加えなくともバイアスが十分小さくなりうる。\n",
        "\n",
        "\n"
      ]
    }
  ]
}