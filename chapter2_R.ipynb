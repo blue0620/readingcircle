{
  "nbformat": 4,
  "nbformat_minor": 0,
  "metadata": {
    "colab": {
      "name": "chapter2_R.ipynb",
      "provenance": [],
      "private_outputs": true,
      "collapsed_sections": [],
      "include_colab_link": true
    },
    "kernelspec": {
      "name": "ir",
      "display_name": "R"
    }
  },
  "cells": [
    {
      "cell_type": "markdown",
      "metadata": {
        "id": "view-in-github",
        "colab_type": "text"
      },
      "source": [
        "<a href=\"https://colab.research.google.com/github/blue0620/readingcircle/blob/master/chapter2_R.ipynb\" target=\"_parent\"><img src=\"https://colab.research.google.com/assets/colab-badge.svg\" alt=\"Open In Colab\"/></a>"
      ]
    },
    {
      "cell_type": "markdown",
      "metadata": {
        "id": "wPy-r5aCWj7t",
        "colab_type": "text"
      },
      "source": [
        "# 2.1 回帰 分析 の 導入"
      ]
    },
    {
      "cell_type": "markdown",
      "metadata": {
        "id": "BztMng_sLdvQ",
        "colab_type": "text"
      },
      "source": [
        "## ■ 2. 1. 1 単回帰分析\n",
        "\n",
        "**概要**\n",
        "\n",
        "X が1単位増減したときに、Yがどの程度変動するかを分析する。\n",
        "\n",
        "**定式化**\n",
        "$$\n",
        "Y_i=\\beta_0+\\beta_1X_i+u_i\n",
        "$$\n",
        "\n",
        "$i$は各点を、$u_i$は誤差を表す。\n",
        "\n",
        "$\\beta_0$は切片,$\\beta_1$はXが1単位増えたときの**Yの期待値**の増加分。\n",
        "$\\beta_0$, $\\beta_1$は何らかの値を持つパラメータで、回帰分析の結果得られる。\n",
        "\n",
        "\n",
        "**どうやってパラメータを決めるか**\n",
        "\n",
        "「最小2乗法（ Ordinary Least Square；OLS）」\n",
        "\n",
        "→誤差($u_i$)の2乗が最も小さくなるように$\\beta_0$, $\\beta_1$を決める。\n",
        "\n",
        "$$\n",
        "\\hat \\beta_0,\\hat \\beta_1=arg min_{\\beta_0,\\beta_1} (Y_i-\\beta_0-\\beta_1X_i)^2 \n",
        "$$\n",
        "\n",
        "**「YとYの条件付き期待値」と「Yの回帰式」の関係性**\n",
        "\n",
        "$$\n",
        "Y=E[Y|X]+u=\\beta_0+\\beta_1X+u\n",
        "$$\n",
        "\n",
        "\n",
        "**上式の関係性の重要な意義**\n",
        "\n",
        "回帰式のパラメータ $\\beta_0,\\beta_1$の値を手元のデータから推定して、$\\hat \\beta_0,\\hat \\beta_1$として得ることで、単にYに対する 近似値を得ているだけでなく、 Yの条件付き期待値 $E[Y|X]$ に対する推定値を得ている。"
      ]
    },
    {
      "cell_type": "markdown",
      "metadata": {
        "id": "72GOv-p9Xjex",
        "colab_type": "text"
      },
      "source": [
        "## ■ 2. 1. 2 効果分析のための回帰分析\n",
        "\n",
        "###**おさらい**\n",
        "\n",
        "介入の効果は施策を行った場合の結果と行わなかった場合の結果の期待値の差分($\\tau =E[Y^{(1)}]-E[Y^{(0)}]$)で表される。\n",
        "\n",
        "セレクションバイアスの影響を取り除いて、上式の介入の効果$\\tau$を推定したい。\n",
        "\n",
        "###**効果分析のための回帰分析に登場する関数**\n",
        "\n",
        "* **被説明変数$Y$**\n",
        "介入の効果を確認したい変数(例えば購買量)\n",
        "\n",
        "* **介入変数$Z$**\n",
        "施策の有無(例えばメールを配信するかどうか)\n",
        "\n",
        "* **共変量$X$**\n",
        "セレクションバイアスを発生させていると分析者が想定する変数\n",
        "\n",
        "※共変量は複数ある場合がほとんど\n",
        "\n",
        "※介入変数や共変量は統計学では説明変数、機械学習では特徴量と呼ばれる\n",
        "\n",
        "複数の説明変数があるときも同様に回帰分析を行えて、これは重回帰分析と呼ぶ。\n",
        "式だけ書きます。\n",
        "$$\n",
        "E[Y|X,Z]=\\beta_0+\\beta_1X+\\beta_2Z\n",
        "$$\n",
        "重回帰分析でも条件付き期待値と回帰分析の関係性が成り立つ\n",
        "\n",
        "$$\n",
        "Y=E[Y|X,Z]+u=\\beta_0+\\beta_1X+\\beta_2Z+u\n",
        "$$\n",
        "\n",
        "このとき、誤差$u$の条件付き期待値は\n",
        "$E[u|X,Z]=0$であり、$u$と$X,Z$は相関しない。\n",
        "\n",
        "(メモ:単に誤差は説明変数の影響を受けないと言いたいだけ？)\n",
        "\n",
        "$\n",
        "u_i=Y_i-(\\beta_0+\\beta_1X_i+\\beta_2Z_i)\n",
        "$\n",
        "\n",
        "パラメータを推定するには、単回帰のときと同様に、上記の2乗誤差の最小問題を解けば良い。\n",
        "\n",
        "\n",
        "推定されたパラメータを代入することで条件付き期待値を算出できると同時に、$Y_i$に対する近似値が得られる。\n",
        "\n",
        "推定に使うデータのサンプルサイズを大きくしていくと。推定パラメータは母集団上での回帰式のパラメータに漸近していく。\n",
        "\n",
        "\n",
        "重回帰分析の**共変量$X$**には様々な関数の形を入れることができる。例えば$X^2$とか。でも、どんな形としてデザインするかは分析者が事前知識から決定する必要がある。\n",
        "\n",
        "一方、**介入変数$Z$**については、常に施策をするしないの2択なので常に線形のまま扱うことができる。\n",
        "\n",
        "\n",
        "\n",
        "\n",
        "\n",
        "\n",
        "\n",
        "\n",
        "\n",
        "\n",
        "\n",
        "\n"
      ]
    },
    {
      "cell_type": "markdown",
      "metadata": {
        "id": "gv7mSwAsUwZ4",
        "colab_type": "text"
      },
      "source": [
        "## ■2.1.3 回帰分析による効果の推定\n",
        "\n",
        "介入の効果$\\tau$は以下のような差分の式に表せる\n",
        "$$\n",
        "\\tau=E[Y^{(1)}]-E[Y^{(0)}]=E[Y|X,Z=1]-E[Y|X,Z=0]\n",
        "$$\n",
        "\n",
        "また、前節を踏まえた重回帰分析によって、$E[Y|X,Z=0]$,$E[Y|X,Z=0]$の中身を推定すると、$X$と$X^2$を共変量に含む重回帰式は以下のように書ける。\n",
        "\n",
        "$\n",
        "E[Y|X,Z=1]=\\beta_0+\\beta_1X+\\beta_2X^2+\\beta_31\n",
        "$\n",
        "\n",
        "$\n",
        "E[Y|X,Z=0]=\\beta_0+\\beta_1X+\\beta_2X^2+\\beta_30\n",
        "$\n",
        "\n",
        "これらを差分の式に代入すると以下の通り。\n",
        "$\n",
        "E[Y|X,Z=1]-E[Y|X,Z=0]=(\\beta_0+\\beta_1X+\\beta_2X^2+\\beta_31)-(\\beta_0+\\beta_1X+\\beta_2X^2+\\beta_30)=\\beta_3\n",
        "$\n",
        "\n",
        "と、このとおり$\\beta_3$しか残らない。つまり回帰分析における介入の効果は$\\beta_3$にある。\n",
        "\n"
      ]
    },
    {
      "cell_type": "markdown",
      "metadata": {
        "id": "kgwDhCRUXb62",
        "colab_type": "text"
      },
      "source": [
        "## 2.1.4 回帰分析における有意差検定\n",
        "\n",
        "データに対して回帰分析を用いた推定した$\\hat\\beta_3$に対して、母集団上の$\\beta_3$が0であるという可能性を検証するために有意差検定を行う必要がある。"
      ]
    },
    {
      "cell_type": "markdown",
      "metadata": {
        "id": "K1niJAFCYsUj",
        "colab_type": "text"
      },
      "source": [
        "## 2.1.5 Rによるメールマーケティングデータの分析\n",
        "メールマーケティングのデータに対して回帰分析を行う。\n",
        "\n",
        "* 目的変数：購入額(spend)\n",
        "* 介入変数：メールの有無(treatment)\n",
        "* 共変量：過去の購入額(history)\n",
        "\n",
        "$$\n",
        "Spend_i=\\beta_0+\\beta_{treatment}treatment_i+\\beta_{histroy}histroy_i\n",
        "$$\n"
      ]
    },
    {
      "cell_type": "code",
      "metadata": {
        "id": "Ur0kmCD6kFUi",
        "colab_type": "code",
        "colab": {}
      },
      "source": [
        "# (1) パッケージをインストールする（初回のみ）\n",
        "install.packages(\"broom\")\n",
        "\n",
        "# (2) ライブラリの読み出し\n",
        "library(\"tidyverse\")\n",
        "library(\"broom\")\n",
        "\n",
        "# (3) データの読み込み\n",
        "email_data <- read_csv(\"http://www.minethatdata.com/Kevin_Hillstrom_MineThatData_E-MailAnalytics_DataMiningChallenge_2008.03.20.csv\")\n",
        "\n",
        "# (4) 女性向けメールが配信されたデータを削除したデータを作成\n",
        "male_df <- email_data %>%\n",
        "  filter(segment != \"Womens E-Mail\") %>% # 女性向けメールが配信されたデータを削除\n",
        "  mutate(treatment = ifelse(segment == \"Mens E-Mail\", 1, 0)) # 介入を表すtreatment変数を追加\n",
        "\n",
        "# (5) セレクションバイアスのあるデータを作成\n",
        "## seedを固定\n",
        "set.seed(1)\n",
        "\n",
        "## 条件に反応するサンプルの量を半分にする\n",
        "obs_rate_c <- 0.5\n",
        "obs_rate_t <- 0.5\n",
        "\n",
        "## バイアスのあるデータを作成\n",
        "biased_data <- male_df %>%\n",
        "  mutate(obs_rate_c =\n",
        "           ifelse( (history > 300) | (recency < 6) |\n",
        "                     (channel == \"Multichannel\"), obs_rate_c, 1),\n",
        "         obs_rate_t =\n",
        "           ifelse( (history > 300) | (recency < 6) |\n",
        "                     (channel == \"Multichannel\"), 1, obs_rate_t),\n",
        "         random_number = runif(n = NROW(male_df))) %>%\n",
        "  filter( (treatment == 0 & random_number < obs_rate_c ) |\n",
        "            (treatment == 1 & random_number < obs_rate_t) )\n",
        "\n",
        "# (6) バイアスのあるデータでの回帰分析\n",
        "## 回帰分析の実行\n",
        "biased_reg <- lm(data = biased_data, formula = spend ~ treatment + history)\n",
        "\n",
        "## 分析結果のレポート\n",
        "summary(biased_reg)\n"
      ],
      "execution_count": 0,
      "outputs": []
    },
    {
      "cell_type": "markdown",
      "metadata": {
        "id": "vOJnm31rmUCp",
        "colab_type": "text"
      },
      "source": [
        "## ■2.1.6 効果検証のための回帰分析で行わないこと\n",
        "\n",
        "* 回帰分析のレポートについて、$\\beta_{treatment}$以外の推定結果への興味はないので無視するよ。\n",
        "\n",
        "* 求まった回帰分析のモデルに説明変数を代入すれば、$Y$の予測式になるけどやらないよ。\n",
        "\n",
        "→こういうのは予測能力を担保するための知見が集約されている機械学習でやったほうがいいよ。\n",
        "\n"
      ]
    },
    {
      "cell_type": "markdown",
      "metadata": {
        "id": "2y-MQVKhn2rz",
        "colab_type": "text"
      },
      "source": [
        "# 2.2 回帰分析におけるバイアス\n",
        "ここでのトピック\n",
        "* 共変量を追加すると効果の推定値はどう変化する？\n",
        "* セレクションバイアスが小さくなるような推定を行うために、どうやって共変量を選んだらいい？"
      ]
    },
    {
      "cell_type": "markdown",
      "metadata": {
        "id": "9mhTc2r7pItu",
        "colab_type": "text"
      },
      "source": [
        "## ■2.2.1 共編料の追加による効果への作用\n",
        "\n",
        "\n",
        "まず、RCTを行ったデータにおいてメールの効果を検証し、どのような効果の値が推定されることが望ましいのかを確認する。\n"
      ]
    },
    {
      "cell_type": "code",
      "metadata": {
        "id": "6y14VBVJlboU",
        "colab_type": "code",
        "colab": {}
      },
      "source": [
        "# (7) RCTデータでの回帰分析とバイアスのあるデータでの回帰分析の比較\n",
        "## RCTデータでの単回帰\n",
        "rct_reg <- lm(data = male_df, formula = spend ~ treatment)\n",
        "rct_reg_coef <- tidy(rct_reg)\n",
        "print(rct_reg_coef)"
      ],
      "execution_count": 0,
      "outputs": []
    },
    {
      "cell_type": "markdown",
      "metadata": {
        "id": "xpVp54JGq9ww",
        "colab_type": "text"
      },
      "source": [
        "推定された$\\beta_{treatment}$は0.770であった。\n",
        "\n",
        "次に、1章と同じプロセスで、バイアスを導入したデータにおいて同様の検証を行う。\n"
      ]
    },
    {
      "cell_type": "code",
      "metadata": {
        "id": "FSbajp7UpGqR",
        "colab_type": "code",
        "colab": {}
      },
      "source": [
        "## バイアスのあるデータでの単回帰\n",
        "nonrct_reg <- lm(data = biased_data, formula = spend ~ treatment)\n",
        "nonrct_reg_coef <- tidy(nonrct_reg)\n",
        "print(nonrct_reg_coef)"
      ],
      "execution_count": 0,
      "outputs": []
    },
    {
      "cell_type": "markdown",
      "metadata": {
        "id": "38oxcMyIrYGL",
        "colab_type": "text"
      },
      "source": [
        "今度は、推定された$\\beta_{treatment}$は0.970であった。→過剰だよね\n",
        "\n",
        "このことから、介入変数だけを回帰式に追加しても、セレクションバイアスの問題が解決しないとわかる。\n",
        "次に、共変量Xをモデルに加える。\n",
        "今回のセレクションバイアスを発生させている、\n",
        "$$\n",
        "recentry_o, channnel_i, history_i\n",
        "$$\n",
        "を回帰式に加える。"
      ]
    },
    {
      "cell_type": "code",
      "metadata": {
        "id": "r8wIb5uQsKZQ",
        "colab_type": "code",
        "colab": {}
      },
      "source": [
        "## バイアスのあるデータでの重回帰\n",
        "nonrct_mreg <- lm(data = biased_data,\n",
        "                  formula = spend ~ treatment + recency + channel + history)\n",
        "nonrct_mreg_coef <- tidy(nonrct_mreg)\n",
        "print(nonrct_mreg_coef)"
      ],
      "execution_count": 0,
      "outputs": []
    },
    {
      "cell_type": "markdown",
      "metadata": {
        "id": "0PJXzUgdsTUN",
        "colab_type": "text"
      },
      "source": [
        "すると、推定された$\\beta_{treatment}$は0.847であった。\n",
        "\n",
        "→共変量を加えて回帰分析を行ったことでセレクションバイアスの影響が軽減された。\n",
        "\n",
        "(メモ：ただ、これはセレクションバイアスの発生源と、バイアスのない推定値がわかっているから言えるのであって、本当に軽減されたのか、それとも最初から負のバイアスがかかっているのかはわからないと思う)\n"
      ]
    },
    {
      "cell_type": "markdown",
      "metadata": {
        "id": "TmWUxnI6uKEO",
        "colab_type": "text"
      },
      "source": [
        "## ■2.2.2　脱落変数バイアス(OVB)\n",
        "**疑問**\n",
        "セレクションバイアスの影響をより小さくするにはどんな共変量をモデルに追加すべきか？\n",
        "\n",
        "**解決策**\n",
        "「目的変数と介入変数に対して相関のある変数を加えるべき」\n",
        "\n",
        "\n",
        "共変量を追加することで、推定される効果が変化する仕組みを確認する。\n",
        "\n",
        "2つの回帰モデルを考える。\n",
        "\n",
        "$Y_i=\\alpha_0+ \\alpha_1Z_i+ u_i$  (モデルA)\n",
        "$Y_i=\\alpha_0+ \\beta_1Z_i+ \\beta_2X_{omit,i}+ e_i$  (モデルB)\n",
        "\n",
        "モデルBはセレクションバイアスの影響が取り除かれた結果を得られるとする。\n",
        "AとBを比較すると、モデルAの誤差項$u_i$は\n",
        "$$u_i=\\beta_2X_{omit,i}+ e_i$$\n",
        "で表せる。\n",
        "\n",
        "$\\beta_2X_{omit,i}$のような、効果の分析に必要だが、モデルから抜け落ちている共変量を**脱落変数**という。\n",
        "\n",
        "脱落変数のあるモデルAにおいて、介入効果を示すパラメータ$\\alpha_1$は\n",
        "$$\\alpha_1=\\beta_1+\\gamma_1\\beta_2$$\n",
        "と表わせる。(本来の効果$\\beta_1$にバイアスが乗っている)\n",
        "\n",
        "この$\\gamma_1\\beta_2$を**脱落変数バイアス(OVB)**と呼ぶ。\n",
        "\n",
        "では$\\gamma_1\\beta_2$はどうやって決まるか？\n",
        "\n",
        "$\\beta_2$はモデルBで推定される$X{omit,i}$と$Y_i$の相関にあたる。\n",
        "\n",
        "$\\gamma_1$は$X{omit,i}$に対して、$Z_i$を回帰させたときに得られる回帰係数\n",
        "$$\n",
        "X{omit,i}=\\gamma_1Z_i+\\epsilon_i \n",
        "$$\n",
        "\n",
        "脱落変数がYに対して与える影響が、脱落変数と介入変数の相関を通して介入変数の効果として表れているように見える。\n",
        "→(つまり、本来の介入の効果に対してバイアスが乗った推定値が観測される)\n",
        "\n",
        "OVBの値を示す式の中には、パラメータが有意であるかどうかは含まれない。"
      ]
    },
    {
      "cell_type": "markdown",
      "metadata": {
        "id": "xrHFfLET3WSv",
        "colab_type": "text"
      },
      "source": [
        "## ■2.2.3 RによるOVBの確認\n",
        "\n",
        "**モデル**\n",
        "historyを共変量に含むかどうかでモデルを分ける。\n",
        "historyは過去の購入額を表すので、売上に対して強い相関がある。\n",
        "$$\n",
        "Spend_i=\\alpha_0+\\alpha_1treatment_i+\\alpha_2recency_i+\\alpha_3channnel_i+e_i (モデルA)\n",
        "$$\n",
        "\n",
        "$$\n",
        "Spend_i=\\beta_0+\\beta_1treatment_i+\\beta_2recency_i+\\beta_3channnel_i+\\beta_4history_i+u_i (モデルB)\n",
        "$$\n",
        "\n",
        "**データ**\n",
        "1.4.3のときと同様に、historyが300以上の場合に介入が起こりやすいようにデータを加工する。\n",
        "\n",
        "\n",
        "モデルAにおいてhistoryをモデルから外すことで、脱落変数バイアスが発生するようにする。"
      ]
    },
    {
      "cell_type": "code",
      "metadata": {
        "id": "3_zcquTv4qbf",
        "colab_type": "code",
        "colab": {}
      },
      "source": [
        "# (8) OVBの確認\n",
        "## (a) モデルA: history抜きの回帰分析とパラメーターの取り出し\n",
        "short_coef <- biased_data %>%\n",
        "  lm(data = .,\n",
        "     formula = spend ~ treatment + recency + channel) %>%\n",
        "  tidy()\n",
        "print(short_coef)\n",
        "## aの結果から介入効果に関するパラメーターのみを取り出す\n",
        "alpha_1 <- short_coef %>%\n",
        "  filter(term == \"treatment\") %>%\n",
        "  pull(estimate)\n",
        "print(alpha_1)\n",
        "\n",
        "## (b) モデルB: historyを追加した回帰分析とパラメーターの取り出し\n",
        "long_coef <- biased_data %>%\n",
        "  lm(data = .,\n",
        "     formula = spend ~ treatment + recency + channel + history) %>%\n",
        "  tidy()\n",
        "print(long_coef)\n",
        "\n",
        "## bの結果から介入とhistoryに関するパラメーターを取り出す\n",
        "beta_1 <- long_coef %>% filter(term == \"treatment\") %>% pull(estimate)\n",
        "beta_4 <- long_coef %>% filter(term == \"history\") %>% pull(estimate)"
      ],
      "execution_count": 0,
      "outputs": []
    },
    {
      "cell_type": "markdown",
      "metadata": {
        "id": "ysrSjtAjBCLs",
        "colab_type": "text"
      },
      "source": [
        "次に、モデルAとモデルBから、脱落変数バイアスの式を出すと、以下のようになる。\n",
        "$$\n",
        "\\beta_1-\\alpha_1=\\gamma_1\\beta_4\n",
        "$$\n",
        "(メモ：教科書の式は誤り)\n",
        "\n",
        "ここでの$\\gamma_1$は以下の式\n",
        "$$\n",
        "history_i=\\gamma_0+\\gamma_1treatment_i+\\gamma_2recency_i+\\gamma_3channel_i+\\epsilon_i (モデルC)\n",
        "$$\n",
        "モデルCは、モデルAで脱落している変数$history_i$に対して、モデルAに含まれる変数で回帰を行ったもの。"
      ]
    },
    {
      "cell_type": "code",
      "metadata": {
        "id": "V831jPnoBDfY",
        "colab_type": "code",
        "colab": {}
      },
      "source": [
        "## (c) 脱落した変数と介入変数での回帰分析\n",
        "omitted_coef <- biased_data %>%\n",
        "  lm(data = ., formula = history ~ treatment + channel + recency) %>%\n",
        "  tidy()\n",
        "print(omitted_coef)\n",
        "## cの結果から介入変数に関するパラメーターを取り出す\n",
        "gamma_1 <- omitted_coef %>% filter(term == \"treatment\") %>% pull(estimate)\n",
        "\n",
        "## OVBの確認\n",
        "print(beta_4*gamma_1)\n",
        "print(alpha_1 - beta_1)\n",
        "print(\"一致したよ！\")"
      ],
      "execution_count": 0,
      "outputs": []
    },
    {
      "cell_type": "markdown",
      "metadata": {
        "id": "w_hWYNjWF1bz",
        "colab_type": "text"
      },
      "source": [
        "## ■2.2.4 OVBが与えてくれる情報\n",
        "\n",
        "ここまでの議論からバイアスの値は\n",
        "\n",
        "**「脱落変数と介入変数の関係」と「脱落変数と目的変数の関係」の掛け合わせ**\n",
        "\n",
        "で決まる。\n",
        "介入変数と目的変数の両方と相関のある変数を共変量をモデルに加えるとバイアスが軽減される。このような変数を**交絡因子**と呼ぶ。\n",
        "\n",
        "予測のための回帰分析では、目的変数との相関だけを気にして説明変数を選択するが、今回のようにバイアスの少ない効果推定を検討する場合は、目的変数と介入変数の両方との相関を見て決めたほうがよい、ということになる。\n",
        "\n",
        "OVBの値($\\gamma_1と\\beta4$)が小さい場合には、その変数がそもそもZとYと関係が薄い場合と、すでにモデルに含まれている変数の影響によって小さくなっている場合がある。\n",
        "\n",
        "後者については、Zと関係のあるすべての変数をモデルに加えなくともバイアスが十分小さくなりうる。\n",
        "\n",
        "\n"
      ]
    },
    {
      "cell_type": "markdown",
      "metadata": {
        "id": "5rR7Pl1u_nA3",
        "colab_type": "text"
      },
      "source": [
        "## ■ 2.2.5 Conditional Independence Assumption\n",
        "\n",
        "共変量の選択においては、モデルに含まれていない変数によるOVBがすべて0になるような状態が理想的。\n",
        "\n",
        "モデルに含めた共変量で条件付けたときに、介入変数$Z$が$Y^{(1)}$や$Y^{(0)}$とは独立している。\n",
        "\n",
        "つまり、共変量が全く同じ値の組み合わせに対しては、介入変数の0と1はランダムに割り付けられる。\n",
        "\n",
        "CIAを式で表すと\n",
        "\n",
        "$\\{Y_i^{(0)},Y_i^{(1)}\\} ⊥ Z_i|X_i$\n",
        "\n",
        "回帰分析で推定した効果の値が本当に正しいのかを考える場合、CIAが満たされているか考える必要がある。\n"
      ]
    },
    {
      "cell_type": "markdown",
      "metadata": {
        "id": "4QbFiv1vDKO2",
        "colab_type": "text"
      },
      "source": [
        "## ■2.2.6 変数の選び方とモデルの評価\n",
        "\n",
        "効果分析を行いたい分析者は、\n",
        "\n",
        "1.   介入の割当がどのような意思決定に基づいて行われるか考える\n",
        "2.   決定方法を表現できる共変量を選択する\n",
        "3.   選択した共変量と$Y$との関係を考慮してそれぞれの関数を決める(形状？)\n",
        "\n",
        "というようなステップで考える。ここで2点問題がある。\n",
        "\n",
        "* バイアスが評価できない\n",
        "\n",
        "→OVBはモデル間のバイアスの変化を表すもので、バイアスそのものの指標ではない。\n",
        "\n",
        "* 必要な共変量がデータにない\n",
        "\n",
        "→バイアスに影響を与えそうな共変量がわかっていることと、データ中にその共変量があるかどうかは別問題。ドメイン知識があれば脱落した共変量によるOVBの大きさを見積もることができることもあるが、主観が入る。\n",
        "\n",
        "\n",
        "「モデル選択のための明確な指標がない」\n",
        "\n",
        "「モデルの限界について定量評価ができない」\n",
        "\n",
        "これらの問題を、応用的な手法(差の差分法(4章)等)で軽減することを考える。\n",
        "\n",
        "**Sensitivity Analysis**\n",
        "\n",
        "重要だと分析者が認識している共変量以外の共変量をモデルから抜いて、効果の推定値が大きく変化しないかどうか見る。\n",
        "\n",
        "これで大きく変化しないなら、逆にデータセットに含まれない(観測できない)未知の共変量を加えたとしてもモデルの示す結論は変化しないだろう。\n"
      ]
    },
    {
      "cell_type": "markdown",
      "metadata": {
        "id": "sCQysw9s9lEU",
        "colab_type": "text"
      },
      "source": [
        "## ■2.2.7 Post treatment bias\n",
        "介入によって影響を受けた変数を分析にいれることによって生じるバイアス。\n",
        "\n",
        "セレクションバイアスを減らそうと、OVBがゼロでない共変量を手当り次第モデルに入れるのは良くないよ、というおはなし。\n",
        "\n",
        "介入の影響を受けるような変数をモデルに含めた場合、結果が歪む。(先週の北島さんの話の部分的なアンサーになってる？)\n",
        "\n",
        "以下の例では、$Y$と$Xの両方に有意な相関があるのでvisit(サイト訪問者数)をモデルの共変量に加えると、メール配信の推定効果が実際と乖離して小さく見積もられる。"
      ]
    },
    {
      "cell_type": "code",
      "metadata": {
        "id": "K20WHfGG_SAz",
        "colab_type": "code",
        "colab": {}
      },
      "source": [
        "# (10) 入れてはいけない変数を入れてみる\n",
        "#visitとtreatmentとの相関\n",
        "cor_visit_treatment <- lm(data = biased_data,\n",
        "                          formula = treatment ~ visit + channel + recency + history) %>%\n",
        "  tidy()\n",
        "print(cor_visit_treatment)\n",
        "# visitを入れた回帰分析を実行\n",
        "bad_control_reg <- lm(data = biased_data,\n",
        "                      formula = spend ~ treatment + channel + recency + history + visit) %>%\n",
        "  tidy()\n",
        "print(bad_control_reg)"
      ],
      "execution_count": 0,
      "outputs": []
    },
    {
      "cell_type": "markdown",
      "metadata": {
        "id": "hZb3E1lHCLM_",
        "colab_type": "text"
      },
      "source": [
        "なにがいけなかった？\n",
        "\n",
        "* メール配信(介入)は、もともと購買傾向の弱いユーザのサイト訪問を増やす意図で行われた。したがってサイト訪問者は、メール配信されてもされなくてもサイトに来た購買傾向の強い層と、メール配信を受けて来た購買傾向の弱い層\n",
        "\n",
        "* メール配信(介入)がなくてもサイト訪問してくるのは、もともと購買傾向の強い層\n",
        "\n",
        "よって、サイトを訪問したユーザ間で比較するとメール配信がされたグループのほうが売上の平均が低いことになる。(メモ：これも教科書間違い？)\n",
        "\n",
        "**回避策**\n",
        "\n",
        "「介入よりもあとのタイミングで決まる変数は分析から取り除く」\n",
        "\n",
        "→どのような変数がこれに該当するかは分析者の知識に依存。\n",
        "\n",
        "こういうのはweb広告(クリック広告)を出す場合とかに陥りがちらしい。自社サービス内の施策を評価する場合にはすべてのユーザのデータを得られるので問題ないが、\n",
        "自社サービスにユーザを誘引する施策の場合に大きな問題になる。\n",
        "\n",
        "サービスを利用してくれたユーザだけでなく、すべてのユーザに対するデータを用意することが重要\n",
        "\n",
        "→そんなことをできるのはG社くらいでは……当館で言えば調査会社に委託して、ポイントサイトで利用アンケート調査を行うようなものか。\n",
        "\n"
      ]
    },
    {
      "cell_type": "markdown",
      "metadata": {
        "id": "JNu_R2mGWic2",
        "colab_type": "text"
      },
      "source": [
        "# 2.3 回帰分析を利用した探索的な効果検証"
      ]
    },
    {
      "cell_type": "markdown",
      "metadata": {
        "id": "BT2Ebs3mF6LY",
        "colab_type": "text"
      },
      "source": [
        "## ■ 2.3.1 PACESによる学費の割引券配布の概要\n",
        "コロンビアで行われた、私立学校の学費助成に関する実験を分析した研究の再現実験\n",
        "\n",
        "**実験概要**\n",
        "* (介入1)応募者の中からランダムに選択した当選者に対して、私立学校の学費の半分程度を政府が助成する割引券を配った。\n",
        "* (介入2)この割引券は落第すると効果を失う。\n",
        "* 介入はランダムに割り付けられるが、数年後の経過調査は回答に応じてくれた人からしか得られない\n",
        "\n",
        "もし、介入に所得を押し上げる効果があり、低い所得が回答を躊躇わせる傾向を持つのであれば、介入を行わなかったグループの調査の回答が正しく得られない。\n",
        "\n",
        "**分析の目的**:調査方法と回答の偏りの影響を取り除く共変量を選択して、介入の効果を推定する\n",
        "\n",
        "* 調査方法による影響： 「電話調査を行ったか(SVY)」「対面調査を行ったか(HSVISIT)」\n",
        "* 回答の偏りによる影響： 「調査時期が何月か(DMONTH1-12)」「学生の性別(SEX2)」「調査対象の親の社会的地位の分類(STRATA1-6,MS)」"
      ]
    },
    {
      "cell_type": "markdown",
      "metadata": {
        "id": "_chx6vBAY0KX",
        "colab_type": "text"
      },
      "source": [
        "## ■ 2.3.2 Rによる回帰分析の実行\n",
        "\n",
        "$$\n",
        "Y_{i,j}=\\beta_{0,j}+\\sum_{k=1}^K \\beta_{k,j}X_i+\\gamma_jZ_i+u_i \n",
        "$$\n",
        "\n",
        "jは対象とする目的変数を表す。(奨学金を受け取っているかや、私立学校に通っているか等)"
      ]
    },
    {
      "cell_type": "code",
      "metadata": {
        "id": "J5HS4zkCQsxv",
        "colab_type": "code",
        "colab": {}
      },
      "source": [
        "# (1) 利用するデータを持つライブラリのインストール（初回のみ）\n",
        "install.packages(\"devtools\")\n",
        "devtools::install_github(\"itamarcaspi/experimentdatar\")\n",
        "\n",
        "# (2) ライブラリとデータの読み込み\n",
        "library(\"experimentdatar\")\n",
        "library(\"broom\")\n",
        "library(\"tidyverse\")\n",
        "data(vouchers)\n",
        "vouchers\n",
        "\n",
        "# (3) Angrist(2002)のTable 3. bogota 1995の再現\n",
        "## 回帰式の準備\n",
        "### 回帰式で使う文字列の準備\n",
        "formula_x_base <- \"VOUCH0\"\n",
        "formula_x_covariate <- \"SVY + HSVISIT + AGE + STRATA1 + STRATA2 + STRATA3 + STRATA4 + STRATA5 + STRATA6 + STRATAMS + D1993 + D1995 + D1997 + DMONTH1 + DMONTH2 + DMONTH3 + DMONTH4 + DMONTH5 + DMONTH6 + DMONTH7 + DMONTH8 + DMONTH9 + DMONTH10 + DMONTH11 + DMONTH12 + SEX2\"\n",
        "formula_y <- c(\"TOTSCYRS\",\"INSCHL\",\"PRSCH_C\",\"USNGSCH\",\"PRSCHA_1\",\"FINISH6\",\"FINISH7\",\"FINISH8\",\"REPT6\",\"REPT\",\"NREPT\",\n",
        "               \"MARRIED\",\"HASCHILD\",\"HOURSUM\",\"WORKING3\")\n",
        "\n",
        "### formula_yの各要素に対して共変量を含まない回帰式を作成\n",
        "base_reg_formula <- paste(formula_y, \"~\", formula_x_base)\n",
        "names(base_reg_formula) <- paste(formula_y, \"base\", sep = \"_\")\n",
        "\n",
        "### formula_yの各要素に対して共変量を含む回帰式を作成\n",
        "covariate_reg_formula <-\n",
        "  paste(formula_y, \"~\", formula_x_base, \"+\", formula_x_covariate)\n",
        "names(covariate_reg_formula) <-\n",
        "  paste(formula_y, \"covariate\", sep = \"_\")\n",
        "\n",
        "### モデル式のベクトルを作成\n",
        "table3_fomula <- c(base_reg_formula, covariate_reg_formula)\n",
        "\n",
        "### モデル式のベクトルをデータフレーム化する\n",
        "models <- table3_fomula %>%\n",
        "  enframe(name = \"model_index\", value = \"formula\")\n",
        "\n",
        "## 回帰分析を実行\n",
        "### bogota 1995のデータを抽出する\n",
        "regression_data <- vouchers %>% filter(TAB3SMPL == 1, BOG95SMP == 1)\n",
        "\n",
        "### まとめて回帰分析を実行\n",
        "df_models <- models %>%\n",
        "  mutate(model = map(.x = formula,\n",
        "                     .f = lm,\n",
        "                     data = regression_data)) %>%\n",
        "  mutate(lm_result = map(.x = model, .f = tidy))\n",
        "\n",
        "### モデルの結果を整形\n",
        "df_results <- df_models %>%\n",
        "  mutate(formula = as.character(formula)) %>%\n",
        "  select(formula, model_index, lm_result) %>%\n",
        "  unnest(cols = c(lm_result))\n",
        "print(\"各回帰分析における割引券の効果の推定値を保存\")\n",
        "print(df_results)"
      ],
      "execution_count": 0,
      "outputs": []
    },
    {
      "cell_type": "markdown",
      "metadata": {
        "id": "RTZRwXKNcc62",
        "colab_type": "text"
      },
      "source": [
        "## ■ 2.3.3　私立学校への通学と割引券の利用についての分析\n",
        "\n",
        "**検証内容** 「割引券はちゃんと使われたか、また割引券に私立学校に通学し始める効果はあるか？」\n",
        "\n",
        "**検証結果** 割引券はちゃんと使われているけど、割引券に当選したことで通学し始める効果は確認できなかったよ\n",
        "\n",
        "**考えられる理由** \n",
        "\n",
        "割引券の抽選に申請する条件として、私立学校への入学許可が必要だったため、当たっても外れても通学を開始する可能性の高い集団にランダム割付を行ったから"
      ]
    },
    {
      "cell_type": "code",
      "metadata": {
        "id": "-4XUZcY3dGQY",
        "colab_type": "code",
        "colab": {}
      },
      "source": [
        "## 通学率と奨学金の利用傾向の可視化(ch2_plot2.png)\n",
        "### PRSCHA_1, USNGSCHに対するVOUCH0の効果を取り出す\n",
        "using_voucher_results <- df_results %>%\n",
        "  filter(term == \"VOUCH0\",\n",
        "         str_detect(model_index, \"PRSCHA_1|USNGSCH\")) %>%\n",
        "  select(model_index, term, estimate, std.error, p.value) %>%\n",
        "  arrange(model_index)\n",
        "print(using_voucher_results)\n",
        "### 取り出した効果をggplotで可視化\n",
        "using_voucher_results %>%\n",
        "  ggplot(aes(y = estimate, x = model_index)) +\n",
        "  geom_point() +\n",
        "  geom_errorbar(aes(ymax = estimate + std.error*1.96,\n",
        "                    ymin = estimate - std.error*1.96,\n",
        "                    width = 0.1)) +\n",
        "  theme(axis.text.x = element_text(angle = 45, hjust = 1),\n",
        "        plot.title = element_text(hjust = 0.5),\n",
        "        legend.position = \"bottom\",\n",
        "        plot.margin = margin(0.5,1,0.5,1, \"cm\"))"
      ],
      "execution_count": 0,
      "outputs": []
    },
    {
      "cell_type": "markdown",
      "metadata": {
        "id": "PNytEtzUeaQZ",
        "colab_type": "text"
      },
      "source": [
        "## ■2.3.4 割引券は留年を減らしているか？\n",
        "\n",
        "**検証内容**\n",
        "\n",
        "* 割引券に通学を続けさせる効果はあるか\n",
        "\n",
        "→PRSCH_C(当選から3年後まだ通っているか)を見ると効果ありそう\n",
        "\n",
        "* 割引券の当選に学校に通える生徒を増やす効果があるか\n",
        "\n",
        "→INSCHL(私立公立を問わず、学校に通っているか)を見ると効果は確認できなさそう\n",
        "\n",
        "* 割引券に留年を減らす効果はあるか\n",
        "\n",
        "→REPT6(6年生で留年したか)を見ると(微妙に)効果ありそう。FINISH-8(標準終了年限の8年間で卒業できたか)を見ると効果ありそう。\n",
        "\n",
        "**検証できないこと**\n",
        "\n",
        "割引券を受け取ったことで生徒がより学費が高く、質の高い教育を受けられる学校を選択したかどうか。\n"
      ]
    },
    {
      "cell_type": "code",
      "metadata": {
        "id": "8JUSntLxe63e",
        "colab_type": "code",
        "colab": {}
      },
      "source": [
        "## 留年の傾向を可視化\n",
        "### PRSCH_C,INSCHL,FINISH6-8,REPTに対するVOUCH0の効果を取り出す\n",
        "going_private_results <- df_results %>%\n",
        "  filter(term == \"VOUCH0\",\n",
        "         str_detect(model_index, \"PRSCH_C|INSCHL|FINISH|REPT\")) %>%\n",
        "  select(model_index, term, estimate, std.error, p.value) %>%\n",
        "  arrange(model_index)\n",
        "print(going_private_results)\n",
        "### 取り出した効果をggplotで可視化\n",
        "going_private_results %>%\n",
        "  filter(str_detect(model_index, \"covariate\")) %>%\n",
        "  ggplot(aes(y = estimate, x = model_index)) +\n",
        "  geom_point() +\n",
        "  geom_errorbar(aes(ymax = estimate + std.error*1.96,\n",
        "                    ymin = estimate - std.error*1.96,\n",
        "                    width = 0.1)) +\n",
        "  geom_hline(yintercept = 0, linetype = 2) +\n",
        "  theme(axis.text.x = element_text(angle = 45, hjust = 1),\n",
        "        plot.title = element_text(hjust = 0.5),\n",
        "        legend.position = \"bottom\",\n",
        "        plot.margin = margin(0.5,1,0.5,1, \"cm\"))\n"
      ],
      "execution_count": 0,
      "outputs": []
    },
    {
      "cell_type": "markdown",
      "metadata": {
        "id": "rWv096pVjSVS",
        "colab_type": "text"
      },
      "source": [
        "## ■2.3.5 性別による効果差\n",
        "\n",
        "上記の傾向は性別によって異なるかを検証する。\n",
        "\n",
        "まず、入学の傾向と奨学金の利用傾向を調べる。\n",
        "\n",
        "**分析結果**\n",
        "* 私立通学の開始について\n",
        "\n",
        "女子生徒では男子生徒と比較して割引券の市立通学を増加させる効果は非常に小さい。性別によって大きく効果が異なる。\n",
        "\n",
        "* 奨学金の利用について\n",
        "\n",
        "女子生徒の方が当選した際に奨学金を利用する傾向が強い\n"
      ]
    },
    {
      "cell_type": "code",
      "metadata": {
        "id": "CQZshGpojwko",
        "colab_type": "code",
        "colab": {}
      },
      "source": [
        "# (4) Angrist(2002)のTable.4 & 6 bogota 1995の再現\n",
        "## table4に使うデータを抜き出す\n",
        "data_tbl4_bog95 <- vouchers %>%\n",
        "  filter(BOG95SMP == 1, TAB3SMPL == 1,\n",
        "         !is.na(SCYFNSH), !is.na(FINISH6), !is.na(PRSCHA_1),\n",
        "         !is.na(REPT6), !is.na(NREPT), !is.na(INSCHL),\n",
        "         !is.na(FINISH7),\n",
        "         !is.na(PRSCH_C), !is.na(FINISH8), !is.na(PRSCHA_2),\n",
        "         !is.na(TOTSCYRS), !is.na(REPT)\n",
        "  ) %>%\n",
        "  select(VOUCH0, SVY, HSVISIT, DJAMUNDI, PHONE, AGE,\n",
        "         STRATA1:STRATA6, STRATAMS, DBOGOTA, D1993, D1995, D1997,\n",
        "         DMONTH1:DMONTH12, SEX_MISS, FINISH6, FINISH7, FINISH8,\n",
        "         REPT6, REPT, NREPT, SEX2, TOTSCYRS, MARRIED, HASCHILD,\n",
        "         HOURSUM,WORKING3, INSCHL,PRSCH_C,USNGSCH,PRSCHA_1)\n",
        "\n",
        "## 女子生徒のみのデータでの回帰分析\n",
        "### 女子生徒のデータだけ取り出す\n",
        "regression_data <- data_tbl4_bog95 %>% filter(SEX2 == 0)\n",
        "\n",
        "### まとめて回帰分析を実行\n",
        "df_models <- models %>%\n",
        "  mutate(model = map(.x = formula, .f = lm, data = regression_data)) %>%\n",
        "  mutate(lm_result = map(.x = model, .f = tidy))\n",
        "\n",
        "### モデルの結果を整形\n",
        "df_results_female <- df_models %>%\n",
        "  mutate(formula = as.character(formula),\n",
        "         gender = \"female\") %>%\n",
        "  select(formula, model_index, lm_result, gender) %>%\n",
        "  unnest(cols = c(lm_result))\n",
        "\n",
        "## 男子生徒のみのデータでの回帰分析\n",
        "regression_data <- data_tbl4_bog95 %>% filter(SEX2 == 1)\n",
        "\n",
        "### まとめて回帰分析を実行\n",
        "df_models <- models %>%\n",
        "  mutate(model = map(.x = formula, .f = lm, data = regression_data)) %>%\n",
        "  mutate(lm_result = map(.x = model, .f = tidy))\n",
        "\n",
        "### モデルの結果を整形\n",
        "df_results_male <- df_models %>%\n",
        "  mutate(formula = as.character(formula),\n",
        "         gender = \"male\") %>%\n",
        "  select(formula, model_index, lm_result, gender) %>%\n",
        "  unnest(cols = c(lm_result))\n",
        "\n",
        "## 通学傾向への分析結果の可視化(ch2_plot3.png)\n",
        "### PRSCHA_1,USNGSCHに対する分析結果を抜き出す\n",
        "using_voucher_results_gender <- rbind(df_results_male, df_results_female) %>%\n",
        "  filter(term == \"VOUCH0\", str_detect(model_index, \"PRSCHA_1|USNGSCH\")) %>%\n",
        "  select(gender, model_index, term, estimate, std.error, p.value) %>%\n",
        "  arrange(gender, model_index) %>%\n",
        "  filter(str_detect(model_index, \"covariate\"))\n",
        "### ggplotによる可視化\n",
        "using_voucher_results_gender %>%\n",
        "  filter(str_detect(model_index, \"covariate\")) %>%\n",
        "  ggplot(aes(y = estimate, x = model_index)) +\n",
        "  geom_point() +\n",
        "  geom_errorbar(aes(ymax = estimate + std.error*1.96,\n",
        "                    ymin = estimate - std.error*1.96,\n",
        "                    width = 0.1)) +\n",
        "  geom_hline(yintercept = 0, linetype = 2) +\n",
        "  theme(axis.text.x = element_text(angle = 45, hjust = 1),\n",
        "        plot.title = element_text(hjust = 0.5),\n",
        "        legend.position = \"bottom\",\n",
        "        plot.margin = margin(0.5,1,0.5,1, \"cm\")) +\n",
        "  facet_grid(gender ~ .)"
      ],
      "execution_count": 0,
      "outputs": []
    },
    {
      "cell_type": "markdown",
      "metadata": {
        "id": "kRq1WsW4pPKr",
        "colab_type": "text"
      },
      "source": [
        "留年と進級の傾向\n",
        "\n",
        "私立学校への通学を維持する効果は女子生徒の方が高いが、留年に対する効果はほぼない\n",
        "\n",
        "→女子生徒が私立学校似通い続けられない原因は学力や留年以外に起因する可能性を示唆\n",
        "\n",
        "**仮説**\n",
        "\n",
        "女子生徒に対して家庭内の経済的なリソースが分配されにくく、経済的なショックを受けやすいのでは？\n",
        "\n",
        "この仮説を労働時間の性差をもとに確認してみる。"
      ]
    },
    {
      "cell_type": "code",
      "metadata": {
        "id": "wcwe7SZAkKo4",
        "colab_type": "code",
        "colab": {}
      },
      "source": [
        "## 留年と通学年数への分析結果の可視化(ch2_plot4.png)\n",
        "### PRSCH_C,INSCHL,REPT,TOTSCYRS,FINISHに対する分析結果を抜き出す\n",
        "going_private_results_gender <- rbind(df_results_male, df_results_female) %>%\n",
        "  filter(term == \"VOUCH0\",\n",
        "         str_detect(model_index, \"PRSCH_C|INSCHL|REPT|TOTSCYRS|FINISH\")) %>%\n",
        "  select(gender, model_index, term, estimate, std.error, p.value) %>%\n",
        "  arrange(model_index)\n",
        "\n",
        "### ggplotによる可視化\n",
        "going_private_results_gender %>%\n",
        "  filter(str_detect(model_index, \"covariate\")) %>%\n",
        "  ggplot(aes(y = estimate, x = model_index)) +\n",
        "  geom_point() +\n",
        "  geom_errorbar(aes(ymax = estimate + std.error*1.96,\n",
        "                    ymin = estimate - std.error*1.96,\n",
        "                    width = 0.1)) +\n",
        "  geom_hline(yintercept = 0, linetype = 2) +\n",
        "  theme(axis.text.x = element_text(angle = 45, hjust = 1),\n",
        "        plot.title = element_text(hjust = 0.5),\n",
        "        legend.position = \"bottom\",\n",
        "        plot.margin = margin(0.5,1,0.5,1, \"cm\")) +\n",
        "  facet_grid(gender ~ .)"
      ],
      "execution_count": 0,
      "outputs": []
    },
    {
      "cell_type": "code",
      "metadata": {
        "id": "94T3QizXoApD",
        "colab_type": "code",
        "colab": {}
      },
      "source": [
        "## 労働時間に対する分析結果の可視化(ch2_plot5.png)\n",
        "### HOURに対する分析結果を抜き出す\n",
        "working_hour_results_gender <- rbind(df_results_male, df_results_female) %>%\n",
        "  filter(term == \"VOUCH0\", str_detect(model_index, \"HOUR\")) %>%\n",
        "  select(gender, model_index, term, estimate, std.error, p.value) %>%\n",
        "  arrange(gender, model_index)\n",
        "\n",
        "### ggplotによる可視化\n",
        "working_hour_results_gender %>%\n",
        "  filter(str_detect(model_index, \"covariate\")) %>%\n",
        "  ggplot(aes(y = estimate, x = model_index)) +\n",
        "  geom_point() +\n",
        "  geom_errorbar(aes(ymax = estimate + std.error*1.96,\n",
        "                    ymin = estimate - std.error*1.96,\n",
        "                    width = 0.1)) +\n",
        "  geom_hline(yintercept = 0, linetype = 2) +\n",
        "  theme(axis.text.x = element_text(angle = 45, hjust = 1),\n",
        "        plot.title = element_text(hjust = 0.5),\n",
        "        legend.position = \"bottom\",\n",
        "        plot.margin = margin(0.5,1,0.5,1, \"cm\")) +\n",
        "  facet_grid(. ~ gender)"
      ],
      "execution_count": 0,
      "outputs": []
    },
    {
      "cell_type": "markdown",
      "metadata": {
        "id": "DtnQS-imHazR",
        "colab_type": "text"
      },
      "source": [
        "## 2.4 回帰分析に対する様々な議論\n",
        "\n",
        "なぜ他の分野で重要視される性質を用いないのか。\n",
        "\n",
        "**1.  元のデータに対する説明能力を考慮しないモデルで行った効果検証に価値はあるの？**\n",
        "\n",
        "「モデルのデータ に対する説明能力や、 未知のサンプルに対する予測能力を高めることが、\" 効果検証において有用である\" という保証にはならない(それよかOVBを減らす、ZとYの両方に相関のある共変量を足したほうが良い)」\n",
        "\n",
        "→ただし、脚注にも目的変数の説明能力を向上させると推定値の標準誤差が小さくなる効果があるから無意味ではない、と書いてある。。。\n",
        "\n",
        "**2. 目的変数のとりうる値に制約がある場合も線形回帰でいいの？**\n",
        "\n",
        "→この本では介入変数$Z$が0か1のバイナリである仮定をおいているので良いよ。\n",
        "(この場合、$E(Y|Z=1)$と$E(Y|Z=0)$の関係は常に線形だから)\n",
        "でも、介入変数が連続値を取るときには妥当でないよ。\n",
        "\n",
        "**3. どんなときに共変量の対数をとるの？**\n",
        "\n",
        "$log(X_1)-log(X_2)=log(1+\\frac{X_1-X_2}{X_2})\\sim \\frac{X_1-X_2}{X_2}$\n",
        "\n",
        "より、対数変換は対象の共変量の変化の割合を近似していて、Xの変動を%で表したときにYがどのくらい影響を受けるかに興味があるとき(YとXの関係またはZとXの関係を比率で表すべきとき)に使う。\n",
        "\n",
        "このときの係数$\\beta$は、Xを1%動かしたときに目的変数Yが$\\beta$%変動することを意味する。\n",
        "\n",
        "**4. 多重共線性には気をつけなくてよいの？**\n",
        "\n",
        "多重共線性によって検定が歪められるのは、多重共線性をもつ変数間に限定される。(関係ない変数には影響しない)\n",
        "\n",
        "この本では回帰分析結果の介入変数のパラメータだけに興味があるので、介入変数の項と多重共線性のある項がないかどうかだけ気をつければ良い。\n",
        "\n",
        "\n",
        "\n",
        "\n"
      ]
    }
  ]
}